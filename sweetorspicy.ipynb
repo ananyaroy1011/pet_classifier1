{
  "cells": [
    {
      "cell_type": "markdown",
      "metadata": {
        "id": "BxCuEHfXu0dy"
      },
      "source": [
        "# Sweet or Spicy?\n"
      ]
    },
    {
      "cell_type": "markdown",
      "metadata": {
        "id": "jfxuXKjdu0d2"
      },
      "source": [
        "**Upload a food picture and this AI will try to guess if it's sweet or spicy**"
      ]
    },
    {
      "cell_type": "markdown",
      "metadata": {
        "id": "lmI1I003u0d3"
      },
      "source": [
        "Note: This AI is only able to classify to one of the two categories, if you upload a picture of something else the results might not be what you expected."
      ]
    },
    {
      "cell_type": "code",
      "execution_count": 1,
      "metadata": {
        "id": "O1sjlabIu0d5"
      },
      "outputs": [],
      "source": [
        "# import fastai\n",
        "# fastai.__version__"
      ]
    },
    {
      "cell_type": "code",
      "execution_count": 2,
      "metadata": {
        "id": "Xz2xX8Qeu0d7"
      },
      "outputs": [],
      "source": [
        "# !python --version"
      ]
    },
    {
      "cell_type": "code",
      "execution_count": 3,
      "metadata": {
        "id": "RzG4ULOEu0d9"
      },
      "outputs": [],
      "source": [
        "from fastai.vision import *\n",
        "from fastai.imports import *\n",
        "from fastai.learner import *\n",
        "from fastai.vision.core import *\n",
        "from fastai.vision.widgets import *"
      ]
    },
    {
      "cell_type": "code",
      "execution_count": 10,
      "metadata": {
        "id": "0YfLYlTMu0d-"
      },
      "outputs": [],
      "source": [
        "learn_inf = load_learner('export.pkl')"
      ]
    },
    {
      "cell_type": "code",
      "execution_count": 5,
      "metadata": {
        "id": "TwRIrfy8u0d_"
      },
      "outputs": [],
      "source": [
        "out_pl = widgets.Output()"
      ]
    },
    {
      "cell_type": "code",
      "execution_count": 6,
      "metadata": {
        "id": "WtZZZOzwu0eA"
      },
      "outputs": [],
      "source": [
        "lbl_pred = widgets.Label()"
      ]
    },
    {
      "cell_type": "code",
      "execution_count": 7,
      "metadata": {
        "id": "MxbHHpKgu0eA"
      },
      "outputs": [],
      "source": [
        "btn_run = widgets.Button(description='Classify')"
      ]
    },
    {
      "cell_type": "code",
      "execution_count": 14,
      "metadata": {
        "id": "QleH-6Gou0eB"
      },
      "outputs": [],
      "source": [
        "def on_click_classify(change):\n",
        "    img = PILImage.create(btn_upload.data[-1])\n",
        "    out_pl.clear_output()\n",
        "    with out_pl: display(img.to_thumb(128,128))\n",
        "    pred,pred_idx,probs = learn_inf.predict(img)\n",
        "    lbl_pred.value = f'I guess this is {pred}; Probability: {probs[pred_idx]:.04f}'\n",
        "\n",
        "btn_run.on_click(on_click_classify)"
      ]
    },
    {
      "cell_type": "code",
      "execution_count": 12,
      "metadata": {
        "id": "2j505GOnu0eC"
      },
      "outputs": [],
      "source": [
        "btn_upload = widgets.FileUpload()"
      ]
    },
    {
      "cell_type": "code",
      "execution_count": 13,
      "metadata": {
        "id": "FcYf_iPXu0eC",
        "outputId": "b6020c71-1196-4e1f-989d-01293fda28c6",
        "colab": {
          "base_uri": "https://localhost:8080/",
          "height": 401,
          "referenced_widgets": [
            "51f6cba19ebe48349812531ca046c502",
            "0edb872ca150463592707f4c44654d2e",
            "b6da0b9e958643a480bb4de858e722e6",
            "e17aaa4587b9479192941ebaed39f41f",
            "5bf5f4bab7644ada974cc0e56ca37041",
            "d430b15a38f941ceaad35c8787aea1bc",
            "24add42029e74e759ca2e1876daa957f",
            "d3e73ae9cca64504a154fc7cac4cc09b",
            "c4ef46c4536b471b8862abb09f8cf47d",
            "5033303d36934bd890bba78d77fde389",
            "a6f779ae5b9248e3bb1a243718571eeb",
            "19b19349703d46d984efd32a863f2e4b",
            "4d6a51449ddf44a38b1fed1d19f71cc0",
            "0d0034cea1c247d9bd84bd578009abe6",
            "01f93b433c934065b256bc78070a1fbb",
            "1ee6a3c0dd1f4328997444b2484c9f19"
          ]
        }
      },
      "outputs": [
        {
          "output_type": "display_data",
          "data": {
            "text/plain": [
              "VBox(children=(Label(value='Sweet or Spicy?'), FileUpload(value={}, description='Upload'), Button(description=…"
            ],
            "application/vnd.jupyter.widget-view+json": {
              "version_major": 2,
              "version_minor": 0,
              "model_id": "51f6cba19ebe48349812531ca046c502"
            }
          },
          "metadata": {}
        },
        {
          "output_type": "display_data",
          "data": {
            "text/plain": [
              "<PIL.Image.Image image mode=RGB size=128x128 at 0x7F9AD1C143D0>"
            ],
            "image/png": "[encoded data removed]"
          },
          "metadata": {}
        },
        {
          "output_type": "display_data",
          "data": {
            "text/plain": [
              "<IPython.core.display.HTML object>"
            ],
            "text/html": [
              "\n",
              "<style>\n",
              "    /* Turns off some styling */\n",
              "    progress {\n",
              "        /* gets rid of default border in Firefox and Opera. */\n",
              "        border: none;\n",
              "        /* Needs to be in here for Safari polyfill so background images work as expected. */\n",
              "        background-size: auto;\n",
              "    }\n",
              "    .progress-bar-interrupted, .progress-bar-interrupted::-webkit-progress-bar {\n",
              "        background: #F44336;\n",
              "    }\n",
              "</style>\n"
            ]
          },
          "metadata": {}
        },
        {
          "output_type": "display_data",
          "data": {
            "text/plain": [
              "<IPython.core.display.HTML object>"
            ],
            "text/html": [
              ""
            ]
          },
          "metadata": {}
        },
        {
          "output_type": "display_data",
          "data": {
            "text/plain": [
              "<IPython.core.display.HTML object>"
            ],
            "text/html": [
              "\n",
              "<style>\n",
              "    /* Turns off some styling */\n",
              "    progress {\n",
              "        /* gets rid of default border in Firefox and Opera. */\n",
              "        border: none;\n",
              "        /* Needs to be in here for Safari polyfill so background images work as expected. */\n",
              "        background-size: auto;\n",
              "    }\n",
              "    .progress-bar-interrupted, .progress-bar-interrupted::-webkit-progress-bar {\n",
              "        background: #F44336;\n",
              "    }\n",
              "</style>\n"
            ]
          },
          "metadata": {}
        },
        {
          "output_type": "display_data",
          "data": {
            "text/plain": [
              "<IPython.core.display.HTML object>"
            ],
            "text/html": [
              ""
            ]
          },
          "metadata": {}
        }
      ],
      "source": [
        "VBox([widgets.Label('Sweet or Spicy?'), \n",
        "      btn_upload, btn_run, out_pl, lbl_pred])"
      ]
    },
    {
      "cell_type": "code",
      "source": [
        ""
      ],
      "metadata": {
        "id": "lS6ZNsxc074S"
      },
      "execution_count": null,
      "outputs": []
    }
  ],
  "metadata": {
    "kernelspec": {
      "display_name": "Python 3",
      "language": "python",
      "name": "python3"
    },
    "language_info": {
      "codemirror_mode": {
        "name": "ipython",
        "version": 3
      },
      "file_extension": ".py",
      "mimetype": "text/x-python",
      "name": "python",
      "nbconvert_exporter": "python",
      "pygments_lexer": "ipython3",
      "version": "3.8.8"
    },
    "colab": {
      "name": "sweetorspicy.ipynb",
      "provenance": []
    },
    "widgets": {
      "application/vnd.jupyter.widget-state+json": {
        "51f6cba19ebe48349812531ca046c502": {
          "model_module": "@jupyter-widgets/controls",
          "model_name": "VBoxModel",
          "model_module_version": "1.5.0",
          "state": {
            "_dom_classes": [],
            "_model_module": "@jupyter-widgets/controls",
            "_model_module_version": "1.5.0",
            "_model_name": "VBoxModel",
            "_view_count": null,
            "_view_module": "@jupyter-widgets/controls",
            "_view_module_version": "1.5.0",
            "_view_name": "VBoxView",
            "box_style": "",
            "children": [
              "IPY_MODEL_0edb872ca150463592707f4c44654d2e",
              "IPY_MODEL_b6da0b9e958643a480bb4de858e722e6",
              "IPY_MODEL_e17aaa4587b9479192941ebaed39f41f",
              "IPY_MODEL_5bf5f4bab7644ada974cc0e56ca37041",
              "IPY_MODEL_d430b15a38f941ceaad35c8787aea1bc"
            ],
            "layout": "IPY_MODEL_24add42029e74e759ca2e1876daa957f"
          }
        },
        "0edb872ca150463592707f4c44654d2e": {
          "model_module": "@jupyter-widgets/controls",
          "model_name": "LabelModel",
          "model_module_version": "1.5.0",
          "state": {
            "_dom_classes": [],
            "_model_module": "@jupyter-widgets/controls",
            "_model_module_version": "1.5.0",
            "_model_name": "LabelModel",
            "_view_count": null,
            "_view_module": "@jupyter-widgets/controls",
            "_view_module_version": "1.5.0",
            "_view_name": "LabelView",
            "description": "",
            "description_tooltip": null,
            "layout": "IPY_MODEL_d3e73ae9cca64504a154fc7cac4cc09b",
            "placeholder": "​",
            "style": "IPY_MODEL_c4ef46c4536b471b8862abb09f8cf47d",
            "value": "Sweet or Spicy?"
          }
        },
        "b6da0b9e958643a480bb4de858e722e6": {
          "model_module": "@jupyter-widgets/controls",
          "model_name": "FileUploadModel",
          "model_module_version": "1.5.0",
          "state": {
            "_counter": 1,
            "_dom_classes": [],
            "_model_module": "@jupyter-widgets/controls",
            "_model_module_version": "1.5.0",
            "_model_name": "FileUploadModel",
            "_view_count": null,
            "_view_module": "@jupyter-widgets/controls",
            "_view_module_version": "1.5.0",
            "_view_name": "FileUploadView",
            "accept": "",
            "button_style": "",
            "data": [
              null
            ],
            "description": "Upload",
            "description_tooltip": null,
            "disabled": false,
            "error": "",
            "icon": "upload",
            "layout": "IPY_MODEL_5033303d36934bd890bba78d77fde389",
            "metadata": [
              {
                "name": "R.jpg",
                "type": "image/jpeg",
                "size": 463182,
                "lastModified": 1657208447432
              }
            ],
            "multiple": false,
            "style": "IPY_MODEL_a6f779ae5b9248e3bb1a243718571eeb"
          }
        },
        "e17aaa4587b9479192941ebaed39f41f": {
          "model_module": "@jupyter-widgets/controls",
          "model_name": "ButtonModel",
          "model_module_version": "1.5.0",
          "state": {
            "_dom_classes": [],
            "_model_module": "@jupyter-widgets/controls",
            "_model_module_version": "1.5.0",
            "_model_name": "ButtonModel",
            "_view_count": null,
            "_view_module": "@jupyter-widgets/controls",
            "_view_module_version": "1.5.0",
            "_view_name": "ButtonView",
            "button_style": "",
            "description": "Classify",
            "disabled": false,
            "icon": "",
            "layout": "IPY_MODEL_19b19349703d46d984efd32a863f2e4b",
            "style": "IPY_MODEL_4d6a51449ddf44a38b1fed1d19f71cc0",
            "tooltip": ""
          }
        },
        "5bf5f4bab7644ada974cc0e56ca37041": {
          "model_module": "@jupyter-widgets/output",
          "model_name": "OutputModel",
          "model_module_version": "1.0.0",
          "state": {
            "_dom_classes": [],
            "_model_module": "@jupyter-widgets/output",
            "_model_module_version": "1.0.0",
            "_model_name": "OutputModel",
            "_view_count": null,
            "_view_module": "@jupyter-widgets/output",
            "_view_module_version": "1.0.0",
            "_view_name": "OutputView",
            "layout": "IPY_MODEL_1ee6a3c0dd1f4328997444b2484c9f19",
            "msg_id": "",
            "outputs": [
              {
                "output_type": "display_data",
                "data": {
                  "text/plain": "<PIL.Image.Image image mode=RGB size=128x128 at 0x7F9AD1AE4C50>",
                  "image/png": "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\n"
                },
                "metadata": {}
              }
            ]
          }
        },
        "d430b15a38f941ceaad35c8787aea1bc": {
          "model_module": "@jupyter-widgets/controls",
          "model_name": "LabelModel",
          "model_module_version": "1.5.0",
          "state": {
            "_dom_classes": [],
            "_model_module": "@jupyter-widgets/controls",
            "_model_module_version": "1.5.0",
            "_model_name": "LabelModel",
            "_view_count": null,
            "_view_module": "@jupyter-widgets/controls",
            "_view_module_version": "1.5.0",
            "_view_name": "LabelView",
            "description": "",
            "description_tooltip": null,
            "layout": "IPY_MODEL_0d0034cea1c247d9bd84bd578009abe6",
            "placeholder": "​",
            "style": "IPY_MODEL_01f93b433c934065b256bc78070a1fbb",
            "value": "I guess this is a sweets; Probability: 0.8412"
          }
        },
        "24add42029e74e759ca2e1876daa957f": {
          "model_module": "@jupyter-widgets/base",
          "model_name": "LayoutModel",
          "model_module_version": "1.2.0",
          "state": {
            "_model_module": "@jupyter-widgets/base",
            "_model_module_version": "1.2.0",
            "_model_name": "LayoutModel",
            "_view_count": null,
            "_view_module": "@jupyter-widgets/base",
            "_view_module_version": "1.2.0",
            "_view_name": "LayoutView",
            "align_content": null,
            "align_items": null,
            "align_self": null,
            "border": null,
            "bottom": null,
            "display": null,
            "flex": null,
            "flex_flow": null,
            "grid_area": null,
            "grid_auto_columns": null,
            "grid_auto_flow": null,
            "grid_auto_rows": null,
            "grid_column": null,
            "grid_gap": null,
            "grid_row": null,
            "grid_template_areas": null,
            "grid_template_columns": null,
            "grid_template_rows": null,
            "height": null,
            "justify_content": null,
            "justify_items": null,
            "left": null,
            "margin": null,
            "max_height": null,
            "max_width": null,
            "min_height": null,
            "min_width": null,
            "object_fit": null,
            "object_position": null,
            "order": null,
            "overflow": null,
            "overflow_x": null,
            "overflow_y": null,
            "padding": null,
            "right": null,
            "top": null,
            "visibility": null,
            "width": null
          }
        },
        "d3e73ae9cca64504a154fc7cac4cc09b": {
          "model_module": "@jupyter-widgets/base",
          "model_name": "LayoutModel",
          "model_module_version": "1.2.0",
          "state": {
            "_model_module": "@jupyter-widgets/base",
            "_model_module_version": "1.2.0",
            "_model_name": "LayoutModel",
            "_view_count": null,
            "_view_module": "@jupyter-widgets/base",
            "_view_module_version": "1.2.0",
            "_view_name": "LayoutView",
            "align_content": null,
            "align_items": null,
            "align_self": null,
            "border": null,
            "bottom": null,
            "display": null,
            "flex": null,
            "flex_flow": null,
            "grid_area": null,
            "grid_auto_columns": null,
            "grid_auto_flow": null,
            "grid_auto_rows": null,
            "grid_column": null,
            "grid_gap": null,
            "grid_row": null,
            "grid_template_areas": null,
            "grid_template_columns": null,
            "grid_template_rows": null,
            "height": null,
            "justify_content": null,
            "justify_items": null,
            "left": null,
            "margin": null,
            "max_height": null,
            "max_width": null,
            "min_height": null,
            "min_width": null,
            "object_fit": null,
            "object_position": null,
            "order": null,
            "overflow": null,
            "overflow_x": null,
            "overflow_y": null,
            "padding": null,
            "right": null,
            "top": null,
            "visibility": null,
            "width": null
          }
        },
        "c4ef46c4536b471b8862abb09f8cf47d": {
          "model_module": "@jupyter-widgets/controls",
          "model_name": "DescriptionStyleModel",
          "model_module_version": "1.5.0",
          "state": {
            "_model_module": "@jupyter-widgets/controls",
            "_model_module_version": "1.5.0",
            "_model_name": "DescriptionStyleModel",
            "_view_count": null,
            "_view_module": "@jupyter-widgets/base",
            "_view_module_version": "1.2.0",
            "_view_name": "StyleView",
            "description_width": ""
          }
        },
        "5033303d36934bd890bba78d77fde389": {
          "model_module": "@jupyter-widgets/base",
          "model_name": "LayoutModel",
          "model_module_version": "1.2.0",
          "state": {
            "_model_module": "@jupyter-widgets/base",
            "_model_module_version": "1.2.0",
            "_model_name": "LayoutModel",
            "_view_count": null,
            "_view_module": "@jupyter-widgets/base",
            "_view_module_version": "1.2.0",
            "_view_name": "LayoutView",
            "align_content": null,
            "align_items": null,
            "align_self": null,
            "border": null,
            "bottom": null,
            "display": null,
            "flex": null,
            "flex_flow": null,
            "grid_area": null,
            "grid_auto_columns": null,
            "grid_auto_flow": null,
            "grid_auto_rows": null,
            "grid_column": null,
            "grid_gap": null,
            "grid_row": null,
            "grid_template_areas": null,
            "grid_template_columns": null,
            "grid_template_rows": null,
            "height": null,
            "justify_content": null,
            "justify_items": null,
            "left": null,
            "margin": null,
            "max_height": null,
            "max_width": null,
            "min_height": null,
            "min_width": null,
            "object_fit": null,
            "object_position": null,
            "order": null,
            "overflow": null,
            "overflow_x": null,
            "overflow_y": null,
            "padding": null,
            "right": null,
            "top": null,
            "visibility": null,
            "width": null
          }
        },
        "a6f779ae5b9248e3bb1a243718571eeb": {
          "model_module": "@jupyter-widgets/controls",
          "model_name": "ButtonStyleModel",
          "model_module_version": "1.5.0",
          "state": {
            "_model_module": "@jupyter-widgets/controls",
            "_model_module_version": "1.5.0",
            "_model_name": "ButtonStyleModel",
            "_view_count": null,
            "_view_module": "@jupyter-widgets/base",
            "_view_module_version": "1.2.0",
            "_view_name": "StyleView",
            "button_color": null,
            "font_weight": ""
          }
        },
        "19b19349703d46d984efd32a863f2e4b": {
          "model_module": "@jupyter-widgets/base",
          "model_name": "LayoutModel",
          "model_module_version": "1.2.0",
          "state": {
            "_model_module": "@jupyter-widgets/base",
            "_model_module_version": "1.2.0",
            "_model_name": "LayoutModel",
            "_view_count": null,
            "_view_module": "@jupyter-widgets/base",
            "_view_module_version": "1.2.0",
            "_view_name": "LayoutView",
            "align_content": null,
            "align_items": null,
            "align_self": null,
            "border": null,
            "bottom": null,
            "display": null,
            "flex": null,
            "flex_flow": null,
            "grid_area": null,
            "grid_auto_columns": null,
            "grid_auto_flow": null,
            "grid_auto_rows": null,
            "grid_column": null,
            "grid_gap": null,
            "grid_row": null,
            "grid_template_areas": null,
            "grid_template_columns": null,
            "grid_template_rows": null,
            "height": null,
            "justify_content": null,
            "justify_items": null,
            "left": null,
            "margin": null,
            "max_height": null,
            "max_width": null,
            "min_height": null,
            "min_width": null,
            "object_fit": null,
            "object_position": null,
            "order": null,
            "overflow": null,
            "overflow_x": null,
            "overflow_y": null,
            "padding": null,
            "right": null,
            "top": null,
            "visibility": null,
            "width": null
          }
        },
        "4d6a51449ddf44a38b1fed1d19f71cc0": {
          "model_module": "@jupyter-widgets/controls",
          "model_name": "ButtonStyleModel",
          "model_module_version": "1.5.0",
          "state": {
            "_model_module": "@jupyter-widgets/controls",
            "_model_module_version": "1.5.0",
            "_model_name": "ButtonStyleModel",
            "_view_count": null,
            "_view_module": "@jupyter-widgets/base",
            "_view_module_version": "1.2.0",
            "_view_name": "StyleView",
            "button_color": null,
            "font_weight": ""
          }
        },
        "0d0034cea1c247d9bd84bd578009abe6": {
          "model_module": "@jupyter-widgets/base",
          "model_name": "LayoutModel",
          "model_module_version": "1.2.0",
          "state": {
            "_model_module": "@jupyter-widgets/base",
            "_model_module_version": "1.2.0",
            "_model_name": "LayoutModel",
            "_view_count": null,
            "_view_module": "@jupyter-widgets/base",
            "_view_module_version": "1.2.0",
            "_view_name": "LayoutView",
            "align_content": null,
            "align_items": null,
            "align_self": null,
            "border": null,
            "bottom": null,
            "display": null,
            "flex": null,
            "flex_flow": null,
            "grid_area": null,
            "grid_auto_columns": null,
            "grid_auto_flow": null,
            "grid_auto_rows": null,
            "grid_column": null,
            "grid_gap": null,
            "grid_row": null,
            "grid_template_areas": null,
            "grid_template_columns": null,
            "grid_template_rows": null,
            "height": null,
            "justify_content": null,
            "justify_items": null,
            "left": null,
            "margin": null,
            "max_height": null,
            "max_width": null,
            "min_height": null,
            "min_width": null,
            "object_fit": null,
            "object_position": null,
            "order": null,
            "overflow": null,
            "overflow_x": null,
            "overflow_y": null,
            "padding": null,
            "right": null,
            "top": null,
            "visibility": null,
            "width": null
          }
        },
        "01f93b433c934065b256bc78070a1fbb": {
          "model_module": "@jupyter-widgets/controls",
          "model_name": "DescriptionStyleModel",
          "model_module_version": "1.5.0",
          "state": {
            "_model_module": "@jupyter-widgets/controls",
            "_model_module_version": "1.5.0",
            "_model_name": "DescriptionStyleModel",
            "_view_count": null,
            "_view_module": "@jupyter-widgets/base",
            "_view_module_version": "1.2.0",
            "_view_name": "StyleView",
            "description_width": ""
          }
        },
        "1ee6a3c0dd1f4328997444b2484c9f19": {
          "model_module": "@jupyter-widgets/base",
          "model_name": "LayoutModel",
          "model_module_version": "1.2.0",
          "state": {
            "_model_module": "@jupyter-widgets/base",
            "_model_module_version": "1.2.0",
            "_model_name": "LayoutModel",
            "_view_count": null,
            "_view_module": "@jupyter-widgets/base",
            "_view_module_version": "1.2.0",
            "_view_name": "LayoutView",
            "align_content": null,
            "align_items": null,
            "align_self": null,
            "border": null,
            "bottom": null,
            "display": null,
            "flex": null,
            "flex_flow": null,
            "grid_area": null,
            "grid_auto_columns": null,
            "grid_auto_flow": null,
            "grid_auto_rows": null,
            "grid_column": null,
            "grid_gap": null,
            "grid_row": null,
            "grid_template_areas": null,
            "grid_template_columns": null,
            "grid_template_rows": null,
            "height": null,
            "justify_content": null,
            "justify_items": null,
            "left": null,
            "margin": null,
            "max_height": null,
            "max_width": null,
            "min_height": null,
            "min_width": null,
            "object_fit": null,
            "object_position": null,
            "order": null,
            "overflow": null,
            "overflow_x": null,
            "overflow_y": null,
            "padding": null,
            "right": null,
            "top": null,
            "visibility": null,
            "width": null
          }
        }
      }
    }
  },
  "nbformat": 4,
  "nbformat_minor": 0
}
